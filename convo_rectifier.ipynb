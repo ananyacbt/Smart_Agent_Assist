{
 "cells": [
  {
   "cell_type": "code",
   "execution_count": 4,
   "id": "64081a1f-216e-4962-a7ac-f93c4298c62f",
   "metadata": {},
   "outputs": [
    {
     "name": "stdout",
     "output_type": "stream",
     "text": [
      "Requirement already satisfied: openpyxl in c:\\users\\asus\\appdata\\local\\programs\\python\\python310\\lib\\site-packages (3.1.5)\n",
      "Requirement already satisfied: et-xmlfile in c:\\users\\asus\\appdata\\local\\programs\\python\\python310\\lib\\site-packages (from openpyxl) (2.0.0)\n"
     ]
    },
    {
     "name": "stderr",
     "output_type": "stream",
     "text": [
      "WARNING: You are using pip version 21.2.3; however, version 25.1.1 is available.\n",
      "You should consider upgrading via the 'C:\\Users\\ASUS\\AppData\\Local\\Programs\\Python\\Python310\\python.exe -m pip install --upgrade pip' command.\n"
     ]
    }
   ],
   "source": [
    "!pip install openpyxl"
   ]
  },
  {
   "cell_type": "code",
   "execution_count": 7,
   "id": "d957a506-7654-4e9e-8a71-4c42dede602d",
   "metadata": {},
   "outputs": [],
   "source": [
    "import pandas as pd\n",
    "import re\n",
    "from uuid import uuid4\n",
    "\n",
    "# Load your CSV file\n",
    "df = pd.read_csv(\"data2822029.csv\")  # make sure this file is in your working directory\n",
    "\n",
    "# List to hold the processed data\n",
    "expanded_rows = []\n",
    "\n",
    "# Loop through each conversation\n",
    "for idx, row in df.iterrows():\n",
    "    conversation_text = row['Conversation']\n",
    "    callid = str(uuid4())  # unique ID per conversation\n",
    "\n",
    "    # Extract speaker turns\n",
    "    speaker_lines = re.findall(r'(Assistant|Human): (.*?)(?=Assistant: |Human: |$)', conversation_text, re.DOTALL)\n",
    "\n",
    "    for speaker, text in speaker_lines:\n",
    "        channel = 'agent' if speaker.lower() == 'assistant' else 'customer'\n",
    "        transcript = \" \".join(text.strip().split())  # clean whitespace\n",
    "        expanded_rows.append({'callid': callid, 'channel': channel, 'transcript': transcript})\n",
    "\n",
    "# Convert to DataFrame\n",
    "expanded_df = pd.DataFrame(expanded_rows)\n",
    "\n",
    "\n",
    "# Save to new Excel file\n",
    "expanded_df.to_csv(\"121conversations.csv\", index=False)\n"
   ]
  },
  {
   "cell_type": "code",
   "execution_count": null,
   "id": "b3bee685-e493-4187-95e3-d4363ce281b6",
   "metadata": {},
   "outputs": [],
   "source": []
  }
 ],
 "metadata": {
  "kernelspec": {
   "display_name": "Python 3 (ipykernel)",
   "language": "python",
   "name": "python3"
  },
  "language_info": {
   "codemirror_mode": {
    "name": "ipython",
    "version": 3
   },
   "file_extension": ".py",
   "mimetype": "text/x-python",
   "name": "python",
   "nbconvert_exporter": "python",
   "pygments_lexer": "ipython3",
   "version": "3.13.5"
  }
 },
 "nbformat": 4,
 "nbformat_minor": 5
}
